{
 "cells": [
  {
   "cell_type": "code",
   "execution_count": 15,
   "metadata": {},
   "outputs": [
    {
     "name": "stdout",
     "output_type": "stream",
     "text": [
      "Enter Subject 1 Marks : 20\n",
      "Enter Subject 2 Marks : 20\n",
      "Enter Subject 3 Marks : 10\n",
      "Enter Subject 4 Marks : 10\n",
      "Enter Subject 5 Marks : 20\n",
      "\n",
      "Fail\n"
     ]
    }
   ],
   "source": [
    "# Q#1\n",
    "sub1 = int (input (\"Enter Subject 1 Marks : \"))\n",
    "sub2 = int (input (\"Enter Subject 2 Marks : \"))\n",
    "sub3 = int (input (\"Enter Subject 3 Marks : \"))\n",
    "sub4 = int (input (\"Enter Subject 4 Marks : \"))\n",
    "sub5 = int (input (\"Enter Subject 5 Marks : \"))\n",
    "\n",
    "avg=(sub1+sub2+sub3+sub4+sub5)/5\n",
    "\n",
    "if (avg>=90):\n",
    "    print (\"\\nGrade: A\")\n",
    "elif (avg>=80 and avg<90):\n",
    "    print (\"\\nGrade: B\")\n",
    "elif (avg>=70 and avg<80):\n",
    "    print (\"\\nGrade: C\")\n",
    "elif (avg>=60 and avg<70):\n",
    "    print (\"\\nGrade: D\")\n",
    "elif (avg>=50 and avg<60):\n",
    "    print (\"\\nGrade: E\")\n",
    "else:\n",
    "    print (\"\\nFail\")"
   ]
  },
  {
   "cell_type": "code",
   "execution_count": 24,
   "metadata": {},
   "outputs": [
    {
     "name": "stdout",
     "output_type": "stream",
     "text": [
      "Sum of all List :  232\n"
     ]
    }
   ],
   "source": [
    "# Q#4\n",
    "\n",
    "num_list = ([1,1,2,3,5,8,13,21,34,55,89])\n",
    "total = sum (num_list)\n",
    "print (\"Sum of all List : \", total)"
   ]
  },
  {
   "cell_type": "code",
   "execution_count": 18,
   "metadata": {},
   "outputs": [
    {
     "name": "stdout",
     "output_type": "stream",
     "text": [
      "Length of given list is :  11\n"
     ]
    }
   ],
   "source": [
    "# Q#3\n",
    "list_len =[1,1,2,3,5,8,13,21,34,55,89]\n",
    "print (\"Length of given list is : \" ,len(list_len))"
   ]
  },
  {
   "cell_type": "code",
   "execution_count": 21,
   "metadata": {},
   "outputs": [
    {
     "name": "stdout",
     "output_type": "stream",
     "text": [
      "Enter Number : 50\n",
      "50 is EVEN\n"
     ]
    }
   ],
   "source": [
    "# Q#2\n",
    "user_input = int (input (\"Enter Number : \"))\n",
    "if user_input % 2 == 0:\n",
    "    print(user_input, \"is EVEN\")\n",
    "else:\n",
    "    print(user_input, \"is ODD\")"
   ]
  },
  {
   "cell_type": "code",
   "execution_count": 23,
   "metadata": {},
   "outputs": [
    {
     "name": "stdout",
     "output_type": "stream",
     "text": [
      "Largest element is: 89\n"
     ]
    }
   ],
   "source": [
    "# Q#5\n",
    "list1 = [1,1,2,3,5,8,13,21,34,55,89] \n",
    "\n",
    "print(\"Largest element is:\", list1[-1]) \n"
   ]
  },
  {
   "cell_type": "code",
   "execution_count": 32,
   "metadata": {},
   "outputs": [
    {
     "name": "stdout",
     "output_type": "stream",
     "text": [
      "[1, 1, 2, 3]\n"
     ]
    }
   ],
   "source": [
    "# Q#6\n",
    "a = [1, 1, 2, 3, 5, 8, 13, 21, 34, 55, 89]\n",
    "new_list = []\n",
    "\n",
    "for item in a:\n",
    "    if item < 5:\n",
    "        new_list.append(item)\n",
    "print(new_list)"
   ]
  },
  {
   "cell_type": "code",
   "execution_count": null,
   "metadata": {},
   "outputs": [],
   "source": []
  },
  {
   "cell_type": "code",
   "execution_count": null,
   "metadata": {},
   "outputs": [],
   "source": []
  }
 ],
 "metadata": {
  "kernelspec": {
   "display_name": "Python 3",
   "language": "python",
   "name": "python3"
  },
  "language_info": {
   "codemirror_mode": {
    "name": "ipython",
    "version": 3
   },
   "file_extension": ".py",
   "mimetype": "text/x-python",
   "name": "python",
   "nbconvert_exporter": "python",
   "pygments_lexer": "ipython3",
   "version": "3.7.4"
  }
 },
 "nbformat": 4,
 "nbformat_minor": 2
}
