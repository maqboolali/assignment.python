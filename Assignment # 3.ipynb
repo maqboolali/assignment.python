{
 "cells": [
  {
   "cell_type": "code",
   "execution_count": 2,
   "metadata": {},
   "outputs": [
    {
     "name": "stdout",
     "output_type": "stream",
     "text": [
      "Enter number 1: 12\n",
      "Enter number 2: 12\n",
      "Enter Operator: +\n",
      "24\n"
     ]
    }
   ],
   "source": [
    "# Q# 1: Make a calculator using Python with addition , subtraction , multiplication , division and power. \n",
    "\n",
    "num1 = int(input(\"Enter number 1: \"))\n",
    "num2 = int(input(\"Enter number 2: \"))\n",
    "op = input(\"Enter Operator: \")\n",
    "\n",
    "if op == '+':\n",
    "    print(num1 + num2)\n",
    "elif op == '-':\n",
    "    print(num1 - num2)\n",
    "elif op == '*':\n",
    "    print(num1*num2)\n",
    "elif op == '/':\n",
    "    print(num1 / num2)\n",
    "elif op == '^':\n",
    "    print(num1**num2) \n",
    "else:\n",
    "    print(\"Invalid Pperator\")\n"
   ]
  },
  {
   "cell_type": "code",
   "execution_count": 3,
   "metadata": {},
   "outputs": [
    {
     "name": "stdout",
     "output_type": "stream",
     "text": [
      "['4', '3', '3', '1', '6']\n"
     ]
    }
   ],
   "source": [
    "#Q# 2: Write a program to check if there is any numeric value in list using for loop\n",
    "\n",
    "mylist = ['4', 'Saleem', '3', 'Maqbool', '3', '1' ,'6']\n",
    "for item in mylist:\n",
    "    mynewlist = [s for s in mylist if s.isdigit()]\n",
    "\n",
    "print(mynewlist)"
   ]
  },
  {
   "cell_type": "code",
   "execution_count": 5,
   "metadata": {},
   "outputs": [
    {
     "name": "stdout",
     "output_type": "stream",
     "text": [
      "{'EmployeeID': '17505 ', 'Full Name': 'Maqbool Ali', 'Father Name': 'Sarwar Ali', 'Salary': '50,000'}\n"
     ]
    }
   ],
   "source": [
    "# Q#3: Write a Python script to add a key to a dictionary\n",
    "\n",
    "emp = {\"EmployeeID\": \"17505 \",\n",
    "            \"Full Name\": \"Maqbool Ali\",\n",
    "            \"Father Name\": \"Sarwar Ali\",\n",
    "            }\n",
    "emp[\"Salary\"] = \"50,000\"\n",
    "print(emp)"
   ]
  },
  {
   "cell_type": "code",
   "execution_count": 8,
   "metadata": {},
   "outputs": [
    {
     "name": "stdout",
     "output_type": "stream",
     "text": [
      "61\n"
     ]
    }
   ],
   "source": [
    "#Q# 4. Write a Python program to sum all the numeric items in a dictionary\n",
    "\n",
    "Data = {'val1': 10, 'val2': 30, 'val3': 21}\n",
    "print(sum(Data.values()))\n",
    "\n"
   ]
  },
  {
   "cell_type": "code",
   "execution_count": 14,
   "metadata": {},
   "outputs": [
    {
     "name": "stdout",
     "output_type": "stream",
     "text": [
      "[3, 12]\n"
     ]
    }
   ],
   "source": [
    "#Q #5. Write a program to identify duplicate values from list\n",
    "\n",
    "List = [2, 3, 4, 3, 5, 6, 7, 12, 25, 12, 36, 12]\n",
    "dupItems = []\n",
    "uniqueItems = {}\n",
    "for x in List:\n",
    "   if x not in uniqueItems:\n",
    "      uniqueItems[x] = 1\n",
    "   else:\n",
    "      if uniqueItems[x] == 1:\n",
    "         dupItems.append(x)\n",
    "      uniqueItems[x] += 1\n",
    "print(dupItems)\n"
   ]
  },
  {
   "cell_type": "code",
   "execution_count": 17,
   "metadata": {},
   "outputs": [
    {
     "name": "stdout",
     "output_type": "stream",
     "text": [
      "True\n"
     ]
    }
   ],
   "source": [
    "#Q #6:  Write a Python script to check if a given key already exists in a dictionary\n",
    "\n",
    "x = {'a': 10, 'l': 50, 'c': 74, 'm': 12, 'f': 44, 'g': 19}\n",
    "\n",
    "if 'a' in x.keys():\n",
    "    print(\"True\")\n",
    "else:\n",
    "    print(\"False\")\n",
    "\n"
   ]
  },
  {
   "cell_type": "code",
   "execution_count": null,
   "metadata": {},
   "outputs": [],
   "source": []
  }
 ],
 "metadata": {
  "kernelspec": {
   "display_name": "Python 3",
   "language": "python",
   "name": "python3"
  },
  "language_info": {
   "codemirror_mode": {
    "name": "ipython",
    "version": 3
   },
   "file_extension": ".py",
   "mimetype": "text/x-python",
   "name": "python",
   "nbconvert_exporter": "python",
   "pygments_lexer": "ipython3",
   "version": "3.7.4"
  }
 },
 "nbformat": 4,
 "nbformat_minor": 2
}
