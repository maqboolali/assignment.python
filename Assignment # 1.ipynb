{
 "cells": [
  {
   "cell_type": "code",
   "execution_count": 1,
   "metadata": {},
   "outputs": [
    {
     "name": "stdout",
     "output_type": "stream",
     "text": [
      "Twinkle, twinkle, little star,\n",
      " \tHow I wonder what you are!\n",
      " \t \tUp above the world so high,\n",
      " \t \tLike a diamond in the sky.\n",
      "Twinkle, twinkle, little star,\n",
      " \tHow I wonder what you are\n",
      "\n"
     ]
    }
   ],
   "source": [
    "line1 = (\"Twinkle, twinkle, little star,\")\n",
    "line2 = (\"How I wonder what you are!\")\n",
    "line3 = (\"Up above the world so high,\")\n",
    "line4 = (\"Like a diamond in the sky.\")\n",
    "line5 = (\"Twinkle, twinkle, little star,\")\n",
    "line6 = (\"How I wonder what you are\")\n",
    "\n",
    "print (\n",
    "       line1 + '\\n \\t' + \n",
    "       line2 + '\\n \\t \\t' + \n",
    "       line3 + '\\n \\t \\t'+\n",
    "       line4 + '\\n'+\n",
    "       line5 + \"\\n \\t\"+\n",
    "       line6 + \"\\n\" \n",
    "      )"
   ]
  },
  {
   "cell_type": "code",
   "execution_count": 2,
   "metadata": {},
   "outputs": [
    {
     "name": "stdout",
     "output_type": "stream",
     "text": [
      "Python Version : 3.7.4\n"
     ]
    }
   ],
   "source": [
    "from platform import python_version\n",
    "print(\"Python Version : \" + python_version())"
   ]
  },
  {
   "cell_type": "code",
   "execution_count": 3,
   "metadata": {},
   "outputs": [
    {
     "name": "stdout",
     "output_type": "stream",
     "text": [
      "Current date and time :\n",
      " 2019-11-04 13:38:00.598352\n"
     ]
    }
   ],
   "source": [
    "import datetime\n",
    "now = datetime.datetime.now()\n",
    "print (\"Current date and time :\" + '\\n', now)"
   ]
  },
  {
   "cell_type": "code",
   "execution_count": 4,
   "metadata": {},
   "outputs": [
    {
     "name": "stdout",
     "output_type": "stream",
     "text": [
      "Input the radius of the circle : 12\n",
      "The area of the circle with radius 12.0 is: 452.3893421169302\n"
     ]
    }
   ],
   "source": [
    "from math import pi\n",
    "radius = float(input (\"Input the radius of the circle : \"))\n",
    "print (\"The area of the circle with radius \" + str(radius) + \" is: \" + str(pi * radius**2))"
   ]
  },
  {
   "cell_type": "code",
   "execution_count": 5,
   "metadata": {},
   "outputs": [
    {
     "name": "stdout",
     "output_type": "stream",
     "text": [
      "Enter First Name : Maqbool\n",
      "Enter Last Name : Ali\n",
      "Hello  Ali Maqbool\n"
     ]
    }
   ],
   "source": [
    "f_name = input(\"Enter First Name : \")\n",
    "l_name = input(\"Enter Last Name : \")\n",
    "print (\"Hello  \" + l_name + \" \" + f_name)"
   ]
  },
  {
   "cell_type": "code",
   "execution_count": 6,
   "metadata": {},
   "outputs": [
    {
     "name": "stdout",
     "output_type": "stream",
     "text": [
      "Enter First No: 12\n",
      "Enter Second No: 12\n",
      "Result:  24\n"
     ]
    }
   ],
   "source": [
    "num1 = int (input (\"Enter First No: \"))\n",
    "num2 = int (input (\"Enter Second No: \"))\n",
    "result = (num1 + num2)\n",
    "print ('Result: ', result)"
   ]
  },
  {
   "cell_type": "code",
   "execution_count": null,
   "metadata": {},
   "outputs": [],
   "source": []
  }
 ],
 "metadata": {
  "kernelspec": {
   "display_name": "Python 3",
   "language": "python",
   "name": "python3"
  },
  "language_info": {
   "codemirror_mode": {
    "name": "ipython",
    "version": 3
   },
   "file_extension": ".py",
   "mimetype": "text/x-python",
   "name": "python",
   "nbconvert_exporter": "python",
   "pygments_lexer": "ipython3",
   "version": "3.7.4"
  }
 },
 "nbformat": 4,
 "nbformat_minor": 2
}
